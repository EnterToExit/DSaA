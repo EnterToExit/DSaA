{
 "cells": [
  {
   "cell_type": "markdown",
   "id": "fifteen-sailing",
   "metadata": {},
   "source": [
    "# Лабораторная работа №4\n",
    "## Выполнил студент группы Суроп Максим Андреевич БВТ2005"
   ]
  },
  {
   "cell_type": "markdown",
   "id": "arctic-stocks",
   "metadata": {},
   "source": [
    "Реализовать следующие структуры данных:\n",
    "  \n",
    "● <b> Стек (stack): </b>  \n",
    "Операции для стека: \n",
    "<i> инициализация, проверка на пустоту, добавление нового элемента в начало, извлечение элемента из начала;  </i>  \n",
    "  \n",
    "● <b> Дек (двусторонняя очередь, deque):  </b>  \n",
    "Операции для дека: \n",
    "<i> инициализация, проверка на пустоту, добавление нового элемента в начало, добавление нового элемента в конец, извлечение элемента из начала, извлечение элемента из конца. </i>  \n",
    "  \n",
    "<i> Разработать программу обработки данных, содержащихся в заранее подготовленном txt-файле, в соответствии с заданиями, применив указанную в задании структуру данных. Результат работы программы вывести на экран и сохранить в отдельном txt-файле. </i>"
   ]
  },
  {
   "cell_type": "code",
   "execution_count": 1,
   "id": "68182229",
   "metadata": {},
   "outputs": [],
   "source": [
    "class stack():\n",
    "    def __init__(self, data = []):\n",
    "        self.stack = data\n",
    "    def is_empty(self):\n",
    "        if len(self.stack):\n",
    "            return False\n",
    "        return True\n",
    "    def append(self, item):\n",
    "        self.stack.append(item)\n",
    "    def pop(self):\n",
    "        if self.is_empty():\n",
    "            return None\n",
    "        return self.stack.pop()\n",
    "\n",
    "class deque():\n",
    "    def __init__(self, data = []):\n",
    "        self.deque = data\n",
    "    def is_empty(self):\n",
    "        if len(self.deque):\n",
    "            return False\n",
    "        return True\n",
    "    def append_l(self, item):\n",
    "        self.deque.insert(0, item)\n",
    "    def append_r(self, item):\n",
    "        self.deque.append(item)\n",
    "    def pop_l(self):\n",
    "        if self.is_empty():\n",
    "            return None\n",
    "        return self.deque.pop(0)\n",
    "    def pop_r(self):\n",
    "        if self.is_empty():\n",
    "            return None\n",
    "        return self.deque.pop()"
   ]
  },
  {
   "cell_type": "markdown",
   "id": "5d7edb08",
   "metadata": {
    "scrolled": true
   },
   "source": [
    "### Задание №1\n",
    "Отсортировать строки файла, содержащие названия книг, в алфавитном порядке с использованием двух деков."
   ]
  },
  {
   "cell_type": "code",
   "execution_count": 2,
   "id": "17702ade",
   "metadata": {},
   "outputs": [
    {
     "name": "stdout",
     "output_type": "stream",
     "text": [
      "books:\n",
      "Война и мир\n",
      "Отверженные\n",
      "Ревизор\n",
      "Звук и ярость\n",
      "Человек павук\n",
      "Распад\n",
      "sorted books:\n",
      "Война и мир\n",
      "Звук и ярость\n",
      "Отверженные\n",
      "РаспадРевизор\n",
      "Человек павук\n"
     ]
    }
   ],
   "source": [
    "def readfile(filename):\n",
    "    with open(filename, \"r\", encoding = \"utf-8\") as file:\n",
    "        return file.readlines()\n",
    "def printlines(text):\n",
    "    for elem in text:\n",
    "        print(elem, end = '')\n",
    "def deque_sort(arr):\n",
    "    original_books = deque()\n",
    "    original_books.deque = arr.copy()\n",
    "    sorted_books = deque()\n",
    "    while not original_books.is_empty():\n",
    "        min = original_books.deque[-1]\n",
    "        for i in original_books.deque:\n",
    "            original_books.append_l(original_books.pop_r())\n",
    "            if original_books.deque[-1] < min:\n",
    "                min = original_books.deque[-1]\n",
    "        while original_books.deque[-1] != min:\n",
    "            original_books.append_l(original_books.pop_r())\n",
    "        sorted_books.append_r(original_books.pop_r())\n",
    "    return sorted_books.deque\n",
    "strs = readfile(\"sample.txt\")\n",
    "print(\"books:\")\n",
    "printlines(strs)\n",
    "print(\"\\nsorted books:\")\n",
    "printlines(deque_sort(strs))"
   ]
  },
  {
   "cell_type": "markdown",
   "id": "49fbd2a0",
   "metadata": {},
   "source": [
    "### Задание №2\n",
    "Дек содержит последовательность символов для шифровки сообщений. Дан текстовый файл, содержащий зашифрованное сообщение. Пользуясь деком, расшифровать текст. \n",
    "Известно, что при шифровке каждый символ сообщения заменялся следующим за ним в деке по часовой стрелке через один."
   ]
  },
  {
   "cell_type": "code",
   "execution_count": 4,
   "id": "81cab7a8",
   "metadata": {},
   "outputs": [
    {
     "name": "stdout",
     "output_type": "stream",
     "text": [
      "Original message: азд иоВтрне\n",
      "Alphabet: ['а', 'р', 'т', 'з', 'и', 'о', 'В', ' ', 'д', 'н', 'е']\n",
      "Decrypted message: тоенВ дизар\n"
     ]
    }
   ],
   "source": [
    "def decrypting(message, alphabet_arr):\n",
    "    alphabet=deque()\n",
    "    alphabet.deque = alphabet_arr.copy()\n",
    "    decryption = \"\"\n",
    "    for char in message:\n",
    "        for i in alphabet.deque:\n",
    "            if alphabet.deque[-1]==char:\n",
    "                alphabet.append_r(alphabet.pop_l())\n",
    "                alphabet.append_r(alphabet.pop_l())\n",
    "                decryption += alphabet.deque[-1]\n",
    "                break\n",
    "            else:\n",
    "                alphabet.append_l(alphabet.pop_r())\n",
    "    return decryption\n",
    "with open (\"sample2.txt\", \"r\", encoding = \"utf-8\") as file:\n",
    "    message = file.read()\n",
    "alphabet = list(set(message))\n",
    "decryption = decrypting(message, alphabet)\n",
    "print (f\"Original message: {message}\")\n",
    "print (f\"Alphabet: {alphabet}\")\n",
    "print (f\"Decrypted message: {decryption}\")"
   ]
  },
  {
   "cell_type": "markdown",
   "id": "c0894f47",
   "metadata": {},
   "source": [
    "### Задание №3\n",
    "Даны три стержня и n дисков различного размера. Диски можно надевать на стержни, образуя из них башни. Перенести n дисков со стержня А на стержень С, сохранив их первоначальный порядок. При переносе дисков необходимо соблюдать следующие правила:\n",
    "- на каждом шаге со стержня на стержень переносить только один диск;\n",
    "- диск нельзя помещать на диск меньшего размера;\n",
    "- для промежуточного хранения можно использовать стержень В.\n",
    "Реализовать алгоритм, используя три стека вместо стержней А, В, С. Информация о дисках хранится в исходном файле."
   ]
  },
  {
   "cell_type": "code",
   "execution_count": 2,
   "id": "9e91a9d4",
   "metadata": {},
   "outputs": [
    {
     "name": "stdout",
     "output_type": "stream",
     "text": [
      "A tower: [1, 5, 8, 12, 15]\n",
      "Перенести диск со стержня 1 на стержень 3\n",
      "Перенести диск со стержня 1 на стержень 2\n",
      "Перенести диск со стержня 3 на стержень 2\n",
      "Перенести диск со стержня 1 на стержень 3\n",
      "Перенести диск со стержня 2 на стержень 1\n",
      "Перенести диск со стержня 2 на стержень 3\n",
      "Перенести диск со стержня 1 на стержень 3\n",
      "Перенести диск со стержня 1 на стержень 2\n",
      "Перенести диск со стержня 3 на стержень 2\n",
      "Перенести диск со стержня 3 на стержень 1\n",
      "Перенести диск со стержня 2 на стержень 1\n",
      "Перенести диск со стержня 3 на стержень 2\n",
      "Перенести диск со стержня 1 на стержень 3\n",
      "Перенести диск со стержня 1 на стержень 2\n",
      "Перенести диск со стержня 3 на стержень 2\n",
      "Перенести диск со стержня 1 на стержень 3\n",
      "Перенести диск со стержня 2 на стержень 1\n",
      "Перенести диск со стержня 2 на стержень 3\n",
      "Перенести диск со стержня 1 на стержень 3\n",
      "Перенести диск со стержня 2 на стержень 1\n",
      "Перенести диск со стержня 3 на стержень 2\n",
      "Перенести диск со стержня 3 на стержень 1\n",
      "Перенести диск со стержня 2 на стержень 1\n",
      "Перенести диск со стержня 2 на стержень 3\n",
      "Перенести диск со стержня 1 на стержень 3\n",
      "Перенести диск со стержня 1 на стержень 2\n",
      "Перенести диск со стержня 3 на стержень 2\n",
      "Перенести диск со стержня 1 на стержень 3\n",
      "Перенести диск со стержня 2 на стержень 1\n",
      "Перенести диск со стержня 2 на стержень 3\n",
      "Перенести диск со стержня 1 на стержень 3\n",
      "C tower: [1, 5, 8, 12, 15]\n"
     ]
    }
   ],
   "source": [
    "#стержни A,B,C располагаются под номерами 1,2,3 соответственно\n",
    "def hanoi_tower(n, i, k):\n",
    "    if n == 1:\n",
    "        print(f\"Перенести диск со стержня {i} на стержень {k}\")\n",
    "        rods[k].append(rods[i].pop())\n",
    "    else:\n",
    "        hanoi_tower(n - 1, i, 6 - i - k)\n",
    "        print(f\"Перенести диск со стержня {i} на стержень {k}\")\n",
    "        rods[k].append(rods[i].pop())\n",
    "        hanoi_tower(n - 1, 6 - i - k, k)\n",
    "def array_of_values(self):\n",
    "        result = []\n",
    "        for el in self.stack:\n",
    "            result.append(el)\n",
    "        return result      \n",
    "\n",
    "with open (\"sample3.txt\", \"r\", encoding = \"utf-8\") as file:\n",
    "     a = file.readline()\n",
    "A = [int(item) for item in a.split()]\n",
    "print(f'A tower: {A}')\n",
    "rods = {1 : stack(A), 2 : stack([]), 3 : stack([])}\n",
    "hanoi_tower(len(rods[1].stack), 1, 3)\n",
    "C = array_of_values(rods[3])\n",
    "print(f'C tower: {C}')"
   ]
  },
  {
   "cell_type": "markdown",
   "id": "e5b0be17",
   "metadata": {},
   "source": [
    "### Задание №4\n",
    "Дан текстовый файл с программой на алгоритмическом языке. За один просмотр файла проверить баланс круглых скобок в тексте, используя стек."
   ]
  },
  {
   "cell_type": "code",
   "execution_count": 3,
   "id": "5b1df60a",
   "metadata": {},
   "outputs": [
    {
     "name": "stdout",
     "output_type": "stream",
     "text": [
      "is there a balance: True\n"
     ]
    }
   ],
   "source": [
    "def round_bracket_balance(filename): \n",
    "    with open(filename, \"r\", encoding = \"utf-8\") as file:\n",
    "        brackets = stack()\n",
    "        for line in file:\n",
    "            for el in line:\n",
    "                if el == '(':\n",
    "                    brackets.append(el)\n",
    "                elif el == ')':\n",
    "                    if brackets.is_empty():\n",
    "                        return False\n",
    "                    else:\n",
    "                        brackets.pop()\n",
    "    return True if brackets.is_empty() else False\n",
    "print(f'is there a balance: {round_bracket_balance(\"sample4.txt\")}')"
   ]
  },
  {
   "attachments": {
    "image-6.png": {
     "image/png": "[encoded data removed]"
    }
   },
   "cell_type": "markdown",
   "id": "a53b28e4",
   "metadata": {},
   "source": [
    "![image-6.png](attachment:image-6.png)"
   ]
  },
  {
   "cell_type": "markdown",
   "id": "c44cdd6b",
   "metadata": {},
   "source": [
    "### Задание №5\n",
    "Дан текстовый файл с программой на алгоритмическом языке. За один просмотр файла проверить баланс квадратных скобок в тексте, используя дек."
   ]
  },
  {
   "cell_type": "code",
   "execution_count": 4,
   "id": "36b8f400",
   "metadata": {},
   "outputs": [
    {
     "name": "stdout",
     "output_type": "stream",
     "text": [
      "is there a balance: False\n"
     ]
    }
   ],
   "source": [
    "def square_bracket_balance(filename): \n",
    "    with open(filename, \"r\", encoding = \"utf-8\") as file:\n",
    "        square_br = deque()\n",
    "        for line in file:\n",
    "            for el in line:\n",
    "                if el == '[':\n",
    "                    square_br.append_l(el)\n",
    "                if el == ']':\n",
    "                    square_br.append_r(el)\n",
    "    while not square_br.is_empty() and square_br.deque[0] == '[' and square_br.deque[-1] == ']':\n",
    "        square_br.pop_l()\n",
    "        square_br.pop_r()\n",
    "    return True if square_br.is_empty() else False\n",
    "print(f'is there a balance: {square_bracket_balance(\"sample5.txt\")}')"
   ]
  },
  {
   "attachments": {
    "image-7.png": {
     "image/png": "[encoded data removed]"
    }
   },
   "cell_type": "markdown",
   "id": "56658106",
   "metadata": {},
   "source": [
    "![image-7.png](attachment:image-7.png)"
   ]
  },
  {
   "cell_type": "markdown",
   "id": "59d13dc7",
   "metadata": {},
   "source": [
    "### Задание №6\n",
    "Дан файл из символов. Используя стек, за один просмотр файла напечатать сначала все цифры, затем все буквы, и, наконец, все остальные символы, сохраняя исходный порядок в каждой группе символов."
   ]
  },
  {
   "cell_type": "code",
   "execution_count": 2,
   "id": "297e36c2",
   "metadata": {
    "scrolled": true
   },
   "outputs": [
    {
     "name": "stdout",
     "output_type": "stream",
     "text": [
      "Цифры: ['2', '3']\n",
      "Буквы: ['L', 'o', 'r', 'e', 'm', 'i', 'p', 's', 'u', 'm', 'd', 'o', 'l', 'o', 'r', 's', 'i', 't', 'a', 'm', 'e', 't']\n",
      "Остальные символы: [' ', ' ', ',', ' ', ' ', ' ', '.']\n"
     ]
    }
   ],
   "source": [
    "def chars_in_file(filename):\n",
    "    with open(filename, \"r\", encoding = \"utf-8\") as file:\n",
    "        file_data=list(file.read())\n",
    "    symbols = stack()\n",
    "    symbols.stack = file_data\n",
    "    symbols.stack.reverse()\n",
    "    digits = []\n",
    "    letters = []\n",
    "    others = []\n",
    "    while not symbols.is_empty():\n",
    "        key = symbols.pop()\n",
    "        if key.isdigit():\n",
    "            digits.append(key)\n",
    "        elif key.isalpha():\n",
    "            letters.append(key)\n",
    "        else:\n",
    "            others.append(key)\n",
    "    return [digits, letters, others]\n",
    "text = chars_in_file(\"sample6.txt\")\n",
    "print (f\"Цифры: {text[0]}\")\n",
    "print (f\"Буквы: {text[1]}\")\n",
    "print (f\"Остальные символы: {text[2]}\")"
   ]
  },
  {
   "attachments": {
    "image-6.png": {
     "image/png": "[encoded data removed]"
    }
   },
   "cell_type": "markdown",
   "id": "fdd54115",
   "metadata": {},
   "source": [
    "![image-6.png](attachment:image-6.png)"
   ]
  },
  {
   "cell_type": "markdown",
   "id": "973f68bd",
   "metadata": {},
   "source": [
    "### Задание №7\n",
    "Дан файл из целых чисел. Используя дек, за один просмотр файла напечатать сначала все отрицательные числа, затем все положительные числа, сохраняя исходный порядок в каждой группе."
   ]
  },
  {
   "cell_type": "code",
   "execution_count": 8,
   "id": "c56fad66",
   "metadata": {},
   "outputs": [
    {
     "name": "stdout",
     "output_type": "stream",
     "text": [
      "Числа в файле: [-12, 5, 13, 4, 16, 12]\n"
     ]
    }
   ],
   "source": [
    "def integers_in_file(filename):    \n",
    "    with open(filename, \"r\", encoding = \"utf-8\") as file:\n",
    "        arr=[]\n",
    "        for line in file:\n",
    "            temp = line.split(\" \")\n",
    "            for el in temp:\n",
    "                arr.append(int(el))\n",
    "        integers = deque([])\n",
    "        for i in reversed(range(len(arr))):\n",
    "            if arr[i] < 0:\n",
    "                integers.append_l(arr[i])\n",
    "        for i in range(len(arr)):\n",
    "            if arr[i] >= 0:\n",
    "                integers.append_r(arr[i])\n",
    "        return integers.deque\n",
    "print (f'Числа в файле: {integers_in_file(\"sample7.txt\")}')"
   ]
  },
  {
   "attachments": {
    "image-4.png": {
     "image/png": "[encoded data removed]"
    }
   },
   "cell_type": "markdown",
   "id": "2e7e6387",
   "metadata": {},
   "source": [
    "![image-4.png](attachment:image-4.png)"
   ]
  },
  {
   "cell_type": "markdown",
   "id": "b9228191",
   "metadata": {},
   "source": [
    "### Задание №8\n",
    "Дан текстовый файл. Используя стек, сформировать новый текстовый файл, содержащий строки исходного файла, записанные в обратном порядке: первая строка становится последней, вторая – предпоследней и т.д."
   ]
  },
  {
   "cell_type": "code",
   "execution_count": 9,
   "id": "981fbdfe",
   "metadata": {},
   "outputs": [],
   "source": [
    "def reversed_file(filename_read, filename_write):\n",
    "    with open(filename_read, \"r\", encoding = \"utf-8\") as file:\n",
    "        text = stack()\n",
    "        for line in file:\n",
    "            text.append(line)\n",
    "        temp = text.pop()\n",
    "        if temp[-1]!=\"\\n\":\n",
    "            temp+=\"\\n\"\n",
    "        text.append(temp)\n",
    "    try:\n",
    "        with open(filename_write, \"w\", encoding = \"utf-8\") as file:\n",
    "            while not text.is_empty():\n",
    "                file.write(text.pop())\n",
    "    except FileNotFoundError:\n",
    "        print(\"Файл не найден\")\n",
    "reversed_file(\"sample8.txt\", \"sample8.1.txt\")"
   ]
  },
  {
   "attachments": {
    "image-2.png": {
     "image/png": "[encoded data removed]"
    },
    "image-3.png": {
     "image/png": "[encoded data removed]"
    }
   },
   "cell_type": "markdown",
   "id": "7b40cf7e",
   "metadata": {},
   "source": [
    "![image-2.png](attachment:image-2.png)![image-3.png](attachment:image-3.png)"
   ]
  }
 ],
 "metadata": {
  "kernelspec": {
   "display_name": "Python 3 (ipykernel)",
   "language": "python",
   "name": "python3"
  },
  "language_info": {
   "codemirror_mode": {
    "name": "ipython",
    "version": 3
   },
   "file_extension": ".py",
   "mimetype": "text/x-python",
   "name": "python",
   "nbconvert_exporter": "python",
   "pygments_lexer": "ipython3",
   "version": "3.10.4"
  }
 },
 "nbformat": 4,
 "nbformat_minor": 5
}
