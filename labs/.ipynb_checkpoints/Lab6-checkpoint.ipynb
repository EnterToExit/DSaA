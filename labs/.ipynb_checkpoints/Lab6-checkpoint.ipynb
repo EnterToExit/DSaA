{
 "cells": [
  {
   "cell_type": "markdown",
   "metadata": {
    "id": "0z3KlfKDn4_K"
   },
   "source": [
    "# Лабораторная работа 6. \n",
    "# Сетевые алгоритмы. Динамические алгоритмы поиска путей.\n"
   ]
  },
  {
   "cell_type": "markdown",
   "metadata": {
    "id": "96Gi_LEvmSVH"
   },
   "source": [
    "## Выполнил студент группы Суроп Максим Андреевич БВТ2005\n",
    "***"
   ]
  },
  {
   "cell_type": "markdown",
   "metadata": {
    "id": "GjdIp8aToKIe"
   },
   "source": [
    "### Задание\n",
    "\n",
    "1.  Реализовать алгоритм поиска кратчайшего расстояния между двумя вершинами ориентированного взвешенного графа в соответствии с вариантом. \n",
    "\n",
    "2.  Предусмотреть задание графа в виде матрицы смежности/инцидентности, читаемой из файла, либо графически с помощью пользовательского интерфейса. \n",
    "\n",
    "3.  Разработать графический интерфейс пользователя с визуализацией графа и отображением кратчайшего расстояния между задаваемыми пользователем вершинами.\n",
    "\n",
    "4. По результатам работы проанализировать временную сложность работы заданного алгоритма в зависимости от числа узлов и ребер графа.\n",
    "Данные представить в виде таблицы.\n",
    "\n"
   ]
  },
  {
   "cell_type": "markdown",
   "metadata": {
    "id": "LhhUXrAmotIA"
   },
   "source": [
    "### Алгоритмы:\n",
    "\n",
    "Алгоритм Флойда-Уоршелла| Алгоритм Дейкстры | Алгоритм Беллмана-Форда | Алгоритм Джонсона| Алгоритм Левита | Алгоритм Йена\n",
    "\n"
   ]
  },
  {
   "cell_type": "markdown",
   "metadata": {
    "id": "Wggfn8l7nG72"
   },
   "source": [
    "### Выполнение:"
   ]
  },
  {
   "cell_type": "code",
   "execution_count": null,
   "metadata": {
    "id": "681a95mZnOSa"
   },
   "outputs": [],
   "source": [
    "import networkx as nx\n",
    "import matplotlib.pyplot as plt\n",
    "import numpy as np\n",
    "import math\n",
    "import copy\n",
    "from timeit import default_timer"
   ]
  },
  {
   "cell_type": "code",
   "execution_count": null,
   "metadata": {},
   "outputs": [],
   "source": [
    "def read_graph(filename): #cчитывание графа из файла\n",
    "    adj_matrix = list()\n",
    "    graphfile = open(filename, 'r')\n",
    "    for l in graphfile:\n",
    "        l = l.split()\n",
    "        for i in range(len(l)):\n",
    "            l[i] = int(l[i])\n",
    "        adj_matrix.append(l)\n",
    "    graphfile.close()\n",
    "    return adj_matrix\n",
    "\n",
    "def draw_graph(adj_matrix, path):\n",
    "    graph = nx.DiGraph(np.matrix(adj_matrix))\n",
    "    colors=[]\n",
    "    for item in graph.edges():\n",
    "        catch = 0\n",
    "        for i in range(len(path)-1):\n",
    "            if path[i] == item[0] and path[i+1] == item[1]:\n",
    "                catch+=1\n",
    "                break\n",
    "        if catch == 1:\n",
    "            colors.append('red')\n",
    "        else:\n",
    "            colors.append('black')\n",
    "    pos = nx.circular_layout(graph)  # positions for all nodes\n",
    "    labels = nx.get_edge_attributes(graph, 'weight')\n",
    "    nx.draw_networkx_nodes(graph, pos, node_size=250, node_color = 'royalblue')\n",
    "    nx.draw_networkx_edges(graph, pos, edge_color=colors, arrows=True, arrowsize = 10, width = 2)\n",
    "    nx.draw_networkx_labels(graph, pos, font_size=13, font_weight = 'bold', font_family='sans-serif')\n",
    "    nx.draw_networkx_edge_labels(graph, pos, edge_labels = labels, font_size=11, font_family='sans-serif')\n",
    "    plt.axis('off')\n",
    "    plt.show()\n",
    "    \n",
    "def convert_adj_matrix(adj_matrix):\n",
    "    res = []\n",
    "    for i in range(len(adj_matrix)):\n",
    "        res.append([])\n",
    "        for j in range(len(adj_matrix)):\n",
    "            res[i].append(adj_matrix[i][j])\n",
    "            if adj_matrix[i][j] == 0 and i!=j:\n",
    "                res[i][j] = math.inf\n",
    "    return res"
   ]
  },
  {
   "cell_type": "markdown",
   "metadata": {
    "id": "diOb-K7LnO5a"
   },
   "source": [
    "### Алгоритм Флойда-Уоршелла"
   ]
  },
  {
   "cell_type": "markdown",
   "metadata": {
    "id": "diOb-K7LnO5a"
   },
   "source": [
    "### Вывод"
   ]
  }
 ],
 "metadata": {
  "colab": {
   "name": "Lab6.ipynb",
   "provenance": []
  },
  "kernelspec": {
   "display_name": "Python 3 (ipykernel)",
   "language": "python",
   "name": "python3"
  },
  "language_info": {
   "codemirror_mode": {
    "name": "ipython",
    "version": 3
   },
   "file_extension": ".py",
   "mimetype": "text/x-python",
   "name": "python",
   "nbconvert_exporter": "python",
   "pygments_lexer": "ipython3",
   "version": "3.10.4"
  }
 },
 "nbformat": 4,
 "nbformat_minor": 1
}
