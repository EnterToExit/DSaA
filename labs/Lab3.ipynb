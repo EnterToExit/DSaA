{
 "cells": [
  {
   "cell_type": "markdown",
   "id": "db4b50f0",
   "metadata": {},
   "source": [
    "# Лабораторная работа №3\n",
    "## Выполнил студент группы Суроп Максим Андреевич БВТ2005"
   ]
  },
  {
   "cell_type": "markdown",
   "id": "annual-symbol",
   "metadata": {},
   "source": [
    "### Оглавление\n",
    "1. [Задание 1](#Задание-№1)\n",
    "2. [Задание 2](#Задание-№2)\n",
    "4. [Вывод](#Вывод)"
   ]
  },
  {
   "cell_type": "markdown",
   "id": "independent-spirit",
   "metadata": {},
   "source": [
    "> Дополнительные модули, использованные при выполнение лабораторной"
   ]
  },
  {
   "cell_type": "code",
   "execution_count": 11,
   "id": "4839be2b",
   "metadata": {},
   "outputs": [],
   "source": [
    "# Необходим при замере скорости выполнения кода\n",
    "from datetime import datetime as t\n",
    "# Нужен для создания словаря в алг. Бойера-Мура\n",
    "from collections import defaultdict"
   ]
  },
  {
   "cell_type": "markdown",
   "id": "inclusive-motorcycle",
   "metadata": {},
   "source": [
    "### Задание №1\n",
    "Реализовать методы поиска подстроки в строке. Добавить возможность ввода строки и подстроки с клавиатуры. Предусмотреть возможность существования пробела. Реализовать возможность выбора опции чувствительности или нечувствительности к регистру. Оценить время работы каждого алгоритма поиска и сравнить его со временем работы стандартной функции поиска, используемой в выбранном языке программирования."
   ]
  },
  {
   "cell_type": "markdown",
   "id": "interracial-communication",
   "metadata": {},
   "source": [
    "#### Алгоритм Кнута-Морриса-Пратта"
   ]
  },
  {
   "cell_type": "code",
   "execution_count": 12,
   "id": "presidential-level",
   "metadata": {},
   "outputs": [
    {
     "name": "stdout",
     "output_type": "stream",
     "text": [
      "Введите строку: Lorem ipsum dolor sit amet, consectetur adipiscing elit, sed do eiusmod tempor incididunt ut labore et dolore magna aliqua.\n",
      "Введите подстроку: magna\n",
      "Чувствительность к регистру: False\n",
      "Индекс начала:  110\n",
      "Продолжительность: 0:00:00\n",
      "Индекс начала:  110\n",
      "Продолжительность: 0:00:00\n"
     ]
    }
   ],
   "source": [
    "def prefix_function(text):\n",
    "    n = len(text)\n",
    "    pi = [0] * n  \n",
    "    for i in range(1, n):\n",
    "        j = pi[i-1]\n",
    "        while j > 0 and text[j] != text[i]:\n",
    "            j = pi[j-1]\n",
    "        if text[i] == text[j]:\n",
    "            j += 1\n",
    "        pi[i] = j\n",
    "    return pi\n",
    "\n",
    "def kmp_search(string, substring, start_index = 0):\n",
    "    j = 0\n",
    "    pi = prefix_function(substring)\n",
    "    for i in range(start_index, len(string)):\n",
    "        while j > 0 and string[i] != substring[j]:\n",
    "            j = pi[j-1]\n",
    "        if string[i] == substring[j]:\n",
    "            j += 1\n",
    "        if j >= len(substring):\n",
    "            return i - j + 1\n",
    "    return None\n",
    "\n",
    "input_string = input(\"Введите строку: \")\n",
    "input_substring = input(\"Введите подстроку: \")\n",
    "sens = input(\"Чувствительность к регистру: \")\n",
    "\n",
    "if (sens == \"False\"):\n",
    "    input_string = input_string.lower()\n",
    "    input_substring = input_substring.lower()\n",
    "\n",
    "time_start = t.now()\n",
    "print(\"Индекс начала: \", kmp_search(input_string, input_substring, 0))\n",
    "time_end = t.now()\n",
    "print(\"Продолжительность: {}\".format(time_end - time_start))\n",
    "\n",
    "time_start = t.now()\n",
    "print(\"Индекс начала: \", input_string.find(input_substring))\n",
    "time_end = t.now()\n",
    "print(\"Продолжительность: {}\".format(time_end - time_start))"
   ]
  },
  {
   "cell_type": "markdown",
   "id": "downtown-option",
   "metadata": {},
   "source": [
    "#### Упрощенный алгоритм Бойера-Мура"
   ]
  },
  {
   "cell_type": "code",
   "execution_count": 13,
   "id": "respective-reggae",
   "metadata": {},
   "outputs": [
    {
     "name": "stdout",
     "output_type": "stream",
     "text": [
      "Введите строку: Lorem ipsum dolor sit amet, consectetur adipiscing elit, sed do eiusmod tempor incididunt ut labore et dolore magna aliqua.\n",
      "Введите подстроку: magna\n",
      "Чувствительность к регистру: False\n",
      "Индекс начала:  110\n",
      "Продолжительность: 0:00:00\n"
     ]
    }
   ],
   "source": [
    "def bm_search(line, subline, reg):\n",
    "    if len(line) < len(subline):\n",
    "        return -1\n",
    "    if reg == 0:\n",
    "        line = line.lower()\n",
    "        subline = subline.lower()\n",
    "    d = defaultdict()\n",
    "    s = set()\n",
    "    N = len(line)\n",
    "    M = len(subline)\n",
    "    for i in range(M - 2, -1, -1):\n",
    "        if subline[i] not in s:\n",
    "            d[subline[i]] = M - i - 1\n",
    "            s.add(subline[i])\n",
    "    if subline[M - 1] not in s:\n",
    "        d[subline[M - 1]] = M\n",
    "    d['*'] = M\n",
    "    i = M - 1\n",
    "    while i < N:\n",
    "        k = 0\n",
    "        for j in range(M - 1, -1, -1):\n",
    "            if line[i - k] != subline[j]:\n",
    "                if j == M - 1:\n",
    "                    offset = d[line[i]] if d.get(line[i], False) else d['*']\n",
    "                else:\n",
    "                    offset = d[subline[j]]\n",
    "                i += offset\n",
    "                break\n",
    "            k += 1\n",
    "        \n",
    "        if j == 0:\n",
    "            return i - k + 1\n",
    "    return -1\n",
    "\n",
    "input_string = input(\"Введите строку: \")\n",
    "input_substring = input(\"Введите подстроку: \")\n",
    "sens = input(\"Чувствительность к регистру: \")\n",
    "\n",
    "if (sens == \"False\"):\n",
    "    input_string = input_string.lower()\n",
    "    input_substring = input_substring.lower()\n",
    "\n",
    "time_start = t.now()\n",
    "print(\"Индекс начала: \", bm_search(input_string, input_substring, 0))\n",
    "time_end = t.now()\n",
    "print(\"Продолжительность: {}\".format(time_end - time_start))"
   ]
  },
  {
   "cell_type": "markdown",
   "id": "hybrid-memorial",
   "metadata": {},
   "source": [
    "### Задание №2\n",
    "Написать программу, определяющую, является ли данное\n",
    "расположение «решаемым», то есть можно ли из него за конечное число\n",
    "шагов перейти к правильному. Если это возможно, то необходимо найти хотя\n",
    "бы одно решение - последовательность движений, после которой числа будут\n",
    "расположены в правильном порядке.\n",
    "#### Входные данные: массив чисел, представляющий собой расстановку в\n",
    "Порядке «слева направо, сверху вниз». Число 0 обозначает пустое поле.\n",
    "Например, массив [1, 2, 3, 4, 5, 6, 7, 8, 9, 10, 11, 12, 13, 14, 15, 0] представляет\n",
    "собой «решенную» позицию элементов.\n",
    "#### Выходные данные: если решения нет, то функция должна вернуть\n",
    "Пустой массив []. Если решение есть, то необходимо представить решение —\n",
    "для каждого шага записывается номер передвигаемого на данном шаге\n",
    "элемента. "
   ]
  },
  {
   "cell_type": "code",
   "execution_count": 25,
   "id": "eleven-generic",
   "metadata": {},
   "outputs": [
    {
     "name": "stdout",
     "output_type": "stream",
     "text": [
      "[[ 2  6 13  7]\n",
      " [ 8 10 15  1]\n",
      " [ 0  3  4  5]\n",
      " [ 9 11 12 14]]\n",
      "\n",
      "[[ 0  4  8 12]\n",
      " [ 1  5  9 13]\n",
      " [ 2  6 10 14]\n",
      " [ 3  7 11 15]]\n",
      "\n",
      "[[ 0  1  2  3]\n",
      " [ 4  5  6  7]\n",
      " [ 8  9 10 11]\n",
      " [12 13 14 15]]\n",
      "\n",
      "[[ 1  2  3  4]\n",
      " [ 5  6  7  8]\n",
      " [ 9 10 11 12]\n",
      " [13 14 15  0]]\n"
     ]
    }
   ],
   "source": [
    "import numpy as np\n",
    "import itertools\n",
    "\n",
    "array = np.array([2,6,13,7,8,10,15,1,0,3,4,5,9,11,12,14])\n",
    "\n",
    "array = array.reshape(4,4)\n",
    "\n",
    "print(str(array) + '\\n')\n",
    "\n",
    "def sort_by_columns(array):\n",
    "    lst = sorted(itertools.chain.from_iterable(array))\n",
    "    return [lst[i::len(array)] for i in range(len(array))]\n",
    "    \n",
    "\n",
    "array = np.array(sort_by_columns(array))\n",
    "\n",
    "print(str(array) + '\\n')\n",
    "\n",
    "array = np.transpose(array)\n",
    "\n",
    "print(str(array) + '\\n')\n",
    "\n",
    "array = np.delete(array, 0)\n",
    "array = np.append(array, 0)\n",
    "print(array.reshape(4,4))"
   ]
  },
  {
   "cell_type": "markdown",
   "id": "arbitrary-amazon",
   "metadata": {},
   "source": [
    "### Вывод"
   ]
  },
  {
   "cell_type": "markdown",
   "id": "71bc58bf",
   "metadata": {},
   "source": []
  }
 ],
 "metadata": {
  "kernelspec": {
   "display_name": "Python 3 (ipykernel)",
   "language": "python",
   "name": "python3"
  },
  "language_info": {
   "codemirror_mode": {
    "name": "ipython",
    "version": 3
   },
   "file_extension": ".py",
   "mimetype": "text/x-python",
   "name": "python",
   "nbconvert_exporter": "python",
   "pygments_lexer": "ipython3",
   "version": "3.10.4"
  }
 },
 "nbformat": 4,
 "nbformat_minor": 5
}
