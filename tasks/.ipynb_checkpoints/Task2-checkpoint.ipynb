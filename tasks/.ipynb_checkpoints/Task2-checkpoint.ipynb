{
 "cells": [
  {
   "cell_type": "markdown",
   "id": "arctic-stocks",
   "metadata": {},
   "source": [
    "### Задание №1\n",
    "Массив A состоит из целых положительных чисел длин отрезков. Составьте из трех отрезков такой треугольник, чтобы его периметр был максимально возможным. Если невозможно составить треугольник с положительной площадью функция возвращает 0."
   ]
  },
  {
   "cell_type": "code",
   "execution_count": null,
   "id": "caring-truck",
   "metadata": {
    "scrolled": false
   },
   "outputs": [],
   "source": [
    "def triangle_perimeter(arr):\n",
    "    a = sorted(arr)[::-1]\n",
    "    for i in range(len(arr) - 2):\n",
    "        if a[i + 2] + a[i + 1] > a[i]:\n",
    "            return a[i + 2] + a[i + 1] + a[i]\n",
    "    return 0"
   ]
  },
  {
   "cell_type": "markdown",
   "id": "maritime-conversation",
   "metadata": {},
   "source": [
    "### Задание №2\n",
    "Дан массив неотрицательных целых чисел nums. Расположите их в таком порядке, чтобы вместе они образовали максимально возможное число. Замечание: Результат может быть очень большим числом, поэтому представьте его как string, а не integer."
   ]
  },
  {
   "cell_type": "code",
   "execution_count": null,
   "id": "alert-charm",
   "metadata": {
    "scrolled": false
   },
   "outputs": [],
   "source": [
    "def find_max(nums):\n",
    "    output = \"\"\n",
    "    arr = \"\"\n",
    "    for i in range(len(nums)):\n",
    "        arr += str(nums[i])\n",
    "    arr_int = sorted(list(arr))[::-1]\n",
    "    for i in range(len(arr_int)):\n",
    "        output += str(arr_int[i])\n",
    "    return output"
   ]
  },
  {
   "cell_type": "markdown",
   "id": "catholic-roots",
   "metadata": {},
   "source": [
    "### Задание №3\n",
    "Дана матрица mat размером m * n, значения целочисленные. Напишите функцию, сортирующую каждую диагональ матрицы по возрастанию и возвращающую получившуюся матрицу."
   ]
  },
  {
   "cell_type": "code",
   "execution_count": null,
   "id": "cleared-anniversary",
   "metadata": {
    "scrolled": false
   },
   "outputs": [],
   "source": [
    "import random\n",
    "\n",
    "def matrix_rand(m, n, min_limit, max_limit):\n",
    "    matrix = []\n",
    "    for i in range (m):\n",
    "        array=list()\n",
    "        for j in range(n):\n",
    "            array.append(random.randint(min_limit, max_limit))\n",
    "        matrix.append(array) \n",
    "    return matrix\n",
    "\n",
    "def matrix_print(matrix):\n",
    "    for i in range(0, len(matrix)):\n",
    "        for j in range(0, len(matrix[i])):\n",
    "            print(matrix[i][j], end=' ')\n",
    "        print()\n",
    "    print()\n",
    "\n",
    "def diagonals_sort(matrix):\n",
    "    length = min(len(matrix), len(matrix[0]))\n",
    "    d1 = []\n",
    "    d2 = []\n",
    "    for i in range(length):\n",
    "        d1.append(matrix[i][i])\n",
    "        d2.append(matrix[-i - 1][i])\n",
    "    d1.sort()\n",
    "    d2.sort()\n",
    "    for i in range(length):\n",
    "        matrix[i][i] = d1[i]\n",
    "        matrix[-i - 1][i] = d2[i]\n",
    "\n",
    "new_mat = matrix_rand(6, 6, 11, 99)\n",
    "matrix_print(new_mat)\n",
    "diagonals_sort(new_mat)\n",
    "matrix_print(new_mat)"
   ]
  }
 ],
 "metadata": {
  "kernelspec": {
   "display_name": "Python 3 (ipykernel)",
   "language": "python",
   "name": "python3"
  },
  "language_info": {
   "codemirror_mode": {
    "name": "ipython",
    "version": 3
   },
   "file_extension": ".py",
   "mimetype": "text/x-python",
   "name": "python",
   "nbconvert_exporter": "python",
   "pygments_lexer": "ipython3",
   "version": "3.8.5"
  }
 },
 "nbformat": 4,
 "nbformat_minor": 5
}
